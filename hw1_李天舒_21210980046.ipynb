{
 "cells": [
  {
   "cell_type": "code",
   "execution_count": 1,
   "id": "ccf77c03",
   "metadata": {},
   "outputs": [],
   "source": [
    "#读取csv中关于mnist数据集的数据\n",
    "import numpy as np\n",
    "import csv\n",
    "\n",
    "\n",
    "train = csv.reader(open('mnist_train.csv', 'r'))\n",
    "train_content = []\n",
    "for line in train:\n",
    "    train_content.append(line)\n",
    "\n",
    "test = csv.reader(open('mnist_test.csv', 'r'))\n",
    "test_content = []\n",
    "for line in test:\n",
    "    test_content.append(line)"
   ]
  },
  {
   "cell_type": "code",
   "execution_count": 2,
   "id": "8354f007",
   "metadata": {},
   "outputs": [
    {
     "name": "stdout",
     "output_type": "stream",
     "text": [
      "Number of input is 784\n"
     ]
    },
    {
     "name": "stderr",
     "output_type": "stream",
     "text": [
      "<ipython-input-2-cdc620842d55>:5: DeprecationWarning: `np.int` is a deprecated alias for the builtin `int`. To silence this warning, use `int` by itself. Doing this will not modify any behavior and is safe. When replacing `np.int`, you may wish to use e.g. `np.int64` or `np.int32` to specify the precision. If you wish to review your current use, check the release note link for additional information.\n",
      "Deprecated in NumPy 1.20; for more details and guidance: https://numpy.org/devdocs/release/1.20.0-notes.html#deprecations\n",
      "  train_label = np.array(train_content[:, 0], dtype=np.int)\n",
      "<ipython-input-2-cdc620842d55>:7: DeprecationWarning: `np.int` is a deprecated alias for the builtin `int`. To silence this warning, use `int` by itself. Doing this will not modify any behavior and is safe. When replacing `np.int`, you may wish to use e.g. `np.int64` or `np.int32` to specify the precision. If you wish to review your current use, check the release note link for additional information.\n",
      "Deprecated in NumPy 1.20; for more details and guidance: https://numpy.org/devdocs/release/1.20.0-notes.html#deprecations\n",
      "  test_label = np.array(test_content[:, 0], dtype=np.int)\n"
     ]
    }
   ],
   "source": [
    "#将读取的数据集转换为我们需要的张量\n",
    "train_content = np.array(train_content, dtype=np.float32)\n",
    "test_content = np.array(test_content, dtype=np.float32)\n",
    "\n",
    "train_label = np.array(train_content[:, 0], dtype=np.int)\n",
    "train_x = train_content[:,1 :]\n",
    "test_label = np.array(test_content[:, 0], dtype=np.int)\n",
    "test_x = test_content[:, 1:]\n",
    "\n",
    "assert train_x.shape[1] == test_x.shape[1]\n",
    "print('Number of input is %d' % train_x.shape[1])\n",
    "num_input = train_x.shape[1]"
   ]
  },
  {
   "cell_type": "code",
   "execution_count": 3,
   "id": "a92f0bc0",
   "metadata": {},
   "outputs": [],
   "source": [
    "#像素值中心化及归一化（标准化）\n",
    "train_x = (train_x - 255/2) / 255\n",
    "test_x = (test_x - 255/2) / 255"
   ]
  },
  {
   "cell_type": "code",
   "execution_count": 4,
   "id": "ed80a120",
   "metadata": {},
   "outputs": [],
   "source": [
    "from two_layer import NN_xjx\n",
    "#模型实例化\n",
    "model = NN_xjx(lr=0.5, num_in=784, num_out=10, hidden=[40, 30], weight_scale=0.1,batch_size=2000, L2=1e-5, epoch=1000,lr_schedule='decay')"
   ]
  },
  {
   "cell_type": "code",
   "execution_count": 5,
   "id": "03f69bf5",
   "metadata": {},
   "outputs": [
    {
     "name": "stdout",
     "output_type": "stream",
     "text": [
      "Epochs 0 -- Acc: [11.850%], Loss: [68.97024]\n",
      "Epochs 10 -- Acc: [77.708%], Loss: [23.16448]\n",
      "Epochs 20 -- Acc: [87.908%], Loss: [13.14745]\n",
      "Epochs 30 -- Acc: [90.928%], Loss: [9.86516]\n",
      "Epochs 40 -- Acc: [92.438%], Loss: [8.18866]\n",
      "Epochs 50 -- Acc: [93.485%], Loss: [7.06507]\n",
      "Epochs 60 -- Acc: [94.325%], Loss: [6.25087]\n",
      "Epochs 70 -- Acc: [94.958%], Loss: [5.63047]\n",
      "Epochs 80 -- Acc: [95.397%], Loss: [5.14240]\n",
      "Epochs 90 -- Acc: [95.778%], Loss: [4.74974]\n",
      "Epochs 100 -- Acc: [96.047%], Loss: [4.42767]\n",
      "Epochs 110 -- Acc: [96.308%], Loss: [4.15833]\n",
      "Epochs 120 -- Acc: [96.538%], Loss: [3.92861]\n",
      "Epochs 130 -- Acc: [96.763%], Loss: [3.72908]\n",
      "Epochs 140 -- Acc: [96.925%], Loss: [3.55318]\n",
      "Epochs 150 -- Acc: [97.065%], Loss: [3.39630]\n",
      "Epochs 160 -- Acc: [97.210%], Loss: [3.25519]\n",
      "Epochs 170 -- Acc: [97.352%], Loss: [3.12741]\n",
      "Epochs 180 -- Acc: [97.467%], Loss: [3.01112]\n",
      "Epochs 190 -- Acc: [97.555%], Loss: [2.90484]\n",
      "Epochs 200 -- Acc: [97.658%], Loss: [2.80731]\n",
      "Epochs 210 -- Acc: [97.743%], Loss: [2.71750]\n",
      "Epochs 220 -- Acc: [97.820%], Loss: [2.63448]\n",
      "Epochs 230 -- Acc: [97.903%], Loss: [2.55747]\n",
      "Epochs 240 -- Acc: [97.968%], Loss: [2.48579]\n",
      "Epochs 250 -- Acc: [98.050%], Loss: [2.41885]\n",
      "Epochs 260 -- Acc: [98.115%], Loss: [2.35616]\n",
      "Epochs 270 -- Acc: [98.167%], Loss: [2.29730]\n",
      "Epochs 280 -- Acc: [98.237%], Loss: [2.24190]\n",
      "Epochs 290 -- Acc: [98.288%], Loss: [2.18966]\n",
      "Epochs 300 -- Acc: [98.358%], Loss: [2.14031]\n",
      "Epochs 310 -- Acc: [98.420%], Loss: [2.09359]\n",
      "Epochs 320 -- Acc: [98.478%], Loss: [2.04930]\n",
      "Epochs 330 -- Acc: [98.543%], Loss: [2.00724]\n",
      "Epochs 340 -- Acc: [98.590%], Loss: [1.96725]\n",
      "Epochs 350 -- Acc: [98.622%], Loss: [1.92917]\n",
      "Epochs 360 -- Acc: [98.680%], Loss: [1.89286]\n",
      "Epochs 370 -- Acc: [98.722%], Loss: [1.85820]\n",
      "Epochs 380 -- Acc: [98.763%], Loss: [1.82506]\n",
      "Epochs 390 -- Acc: [98.797%], Loss: [1.79336]\n",
      "Epochs 400 -- Acc: [98.838%], Loss: [1.76299]\n",
      "Epochs 410 -- Acc: [98.855%], Loss: [1.73388]\n",
      "Epochs 420 -- Acc: [98.882%], Loss: [1.70593]\n",
      "Epochs 430 -- Acc: [98.908%], Loss: [1.67909]\n",
      "Epochs 440 -- Acc: [98.918%], Loss: [1.65328]\n",
      "Epochs 450 -- Acc: [98.948%], Loss: [1.62845]\n",
      "Epochs 460 -- Acc: [98.958%], Loss: [1.60454]\n",
      "Epochs 470 -- Acc: [98.997%], Loss: [1.58151]\n",
      "Epochs 480 -- Acc: [99.015%], Loss: [1.55929]\n",
      "Epochs 490 -- Acc: [99.043%], Loss: [1.53786]\n",
      "Epochs 500 -- Acc: [99.068%], Loss: [1.51717]\n",
      "Epochs 510 -- Acc: [99.093%], Loss: [1.49718]\n",
      "Epochs 520 -- Acc: [99.118%], Loss: [1.47786]\n",
      "Epochs 530 -- Acc: [99.143%], Loss: [1.45918]\n",
      "Epochs 540 -- Acc: [99.175%], Loss: [1.44111]\n",
      "Epochs 550 -- Acc: [99.193%], Loss: [1.42362]\n",
      "Epochs 560 -- Acc: [99.205%], Loss: [1.40668]\n",
      "Epochs 570 -- Acc: [99.228%], Loss: [1.39028]\n",
      "Epochs 580 -- Acc: [99.247%], Loss: [1.37439]\n",
      "Epochs 590 -- Acc: [99.265%], Loss: [1.35898]\n",
      "Epochs 600 -- Acc: [99.278%], Loss: [1.34405]\n",
      "Epochs 610 -- Acc: [99.303%], Loss: [1.32957]\n",
      "Epochs 620 -- Acc: [99.315%], Loss: [1.31553]\n",
      "Epochs 630 -- Acc: [99.328%], Loss: [1.30190]\n",
      "Epochs 640 -- Acc: [99.342%], Loss: [1.28868]\n",
      "Epochs 650 -- Acc: [99.345%], Loss: [1.27586]\n",
      "Epochs 660 -- Acc: [99.363%], Loss: [1.26340]\n",
      "Epochs 670 -- Acc: [99.377%], Loss: [1.25131]\n",
      "Epochs 680 -- Acc: [99.390%], Loss: [1.23957]\n",
      "Epochs 690 -- Acc: [99.398%], Loss: [1.22817]\n",
      "Epochs 700 -- Acc: [99.412%], Loss: [1.21709]\n",
      "Epochs 710 -- Acc: [99.422%], Loss: [1.20632]\n",
      "Epochs 720 -- Acc: [99.428%], Loss: [1.19586]\n",
      "Epochs 730 -- Acc: [99.447%], Loss: [1.18569]\n",
      "Epochs 740 -- Acc: [99.455%], Loss: [1.17579]\n",
      "Epochs 750 -- Acc: [99.463%], Loss: [1.16618]\n",
      "Epochs 760 -- Acc: [99.468%], Loss: [1.15682]\n",
      "Epochs 770 -- Acc: [99.477%], Loss: [1.14772]\n",
      "Epochs 780 -- Acc: [99.485%], Loss: [1.13886]\n",
      "Epochs 790 -- Acc: [99.492%], Loss: [1.13024]\n",
      "Epochs 800 -- Acc: [99.497%], Loss: [1.12185]\n",
      "Epochs 810 -- Acc: [99.528%], Loss: [1.11368]\n",
      "Epochs 820 -- Acc: [99.538%], Loss: [1.10572]\n",
      "Epochs 830 -- Acc: [99.553%], Loss: [1.09797]\n",
      "Epochs 840 -- Acc: [99.567%], Loss: [1.09042]\n",
      "Epochs 850 -- Acc: [99.577%], Loss: [1.08306]\n",
      "Epochs 860 -- Acc: [99.583%], Loss: [1.07589]\n",
      "Epochs 870 -- Acc: [99.590%], Loss: [1.06891]\n",
      "Epochs 880 -- Acc: [99.607%], Loss: [1.06210]\n",
      "Epochs 890 -- Acc: [99.612%], Loss: [1.05546]\n",
      "Epochs 900 -- Acc: [99.625%], Loss: [1.04898]\n",
      "Epochs 910 -- Acc: [99.635%], Loss: [1.04267]\n",
      "Epochs 920 -- Acc: [99.638%], Loss: [1.03651]\n",
      "Epochs 930 -- Acc: [99.645%], Loss: [1.03050]\n",
      "Epochs 940 -- Acc: [99.648%], Loss: [1.02463]\n",
      "Epochs 950 -- Acc: [99.652%], Loss: [1.01891]\n",
      "Epochs 960 -- Acc: [99.657%], Loss: [1.01332]\n",
      "Epochs 970 -- Acc: [99.663%], Loss: [1.00787]\n",
      "Epochs 980 -- Acc: [99.672%], Loss: [1.00255]\n",
      "Epochs 990 -- Acc: [99.682%], Loss: [0.99735]\n",
      "Epochs 999 -- Acc: [99.688%], Loss: [0.99278]\n"
     ]
    }
   ],
   "source": [
    "#训练模型\n",
    "model.train(train_x, train_label) "
   ]
  },
  {
   "cell_type": "code",
   "execution_count": 6,
   "id": "82dd9d85",
   "metadata": {},
   "outputs": [
    {
     "name": "stdout",
     "output_type": "stream",
     "text": [
      "Test acc is 0.97060\n"
     ]
    },
    {
     "data": {
      "text/plain": [
       "0.9706"
      ]
     },
     "execution_count": 6,
     "metadata": {},
     "output_type": "execute_result"
    }
   ],
   "source": [
    "#在test集上测试模型（查看是否过拟合）\n",
    "model.test(test_x, test_label)"
   ]
  },
  {
   "cell_type": "code",
   "execution_count": 7,
   "id": "a2e68c49",
   "metadata": {},
   "outputs": [
    {
     "data": {
      "text/plain": [
       "Text(0, 0.5, 'Loss')"
      ]
     },
     "execution_count": 7,
     "metadata": {},
     "output_type": "execute_result"
    },
    {
     "data": {
      "image/png": "[encoded data removed]",
      "text/plain": [
       "<Figure size 432x288 with 1 Axes>"
      ]
     },
     "metadata": {
      "needs_background": "light"
     },
     "output_type": "display_data"
    }
   ],
   "source": [
    "#绘制loss曲线\n",
    "import matplotlib.pyplot as plt\n",
    "loss = model.get_loss_history()\n",
    "%matplotlib inline\n",
    "plt.plot(loss)\n",
    "plt.title('Loss Curve')\n",
    "plt.xlabel('Epochs')\n",
    "plt.ylabel('Loss')"
   ]
  },
  {
   "cell_type": "code",
   "execution_count": 8,
   "id": "c6b47025",
   "metadata": {},
   "outputs": [
    {
     "data": {
      "text/plain": [
       "Text(0, 0.5, 'Accuracy')"
      ]
     },
     "execution_count": 8,
     "metadata": {},
     "output_type": "execute_result"
    },
    {
     "data": {
      "image/png": "[encoded data removed]",
      "text/plain": [
       "<Figure size 432x288 with 1 Axes>"
      ]
     },
     "metadata": {
      "needs_background": "light"
     },
     "output_type": "display_data"
    }
   ],
   "source": [
    "#绘制准确率曲线\n",
    "import matplotlib.pyplot as plt\n",
    "acc = model.get_acc_history()\n",
    "%matplotlib inline\n",
    "plt.plot(acc)\n",
    "plt.title('Accuracy Curve')\n",
    "plt.xlabel('Epochs')\n",
    "plt.ylabel('Accuracy')"
   ]
  },
  {
   "cell_type": "code",
   "execution_count": 9,
   "id": "4af5fe8d",
   "metadata": {},
   "outputs": [],
   "source": [
    "#保存模型\n",
    "model.save_para()"
   ]
  },
  {
   "cell_type": "code",
   "execution_count": null,
   "id": "990a7ad3",
   "metadata": {},
   "outputs": [],
   "source": []
  }
 ],
 "metadata": {
  "kernelspec": {
   "display_name": "Python 3",
   "language": "python",
   "name": "python3"
  },
  "language_info": {
   "codemirror_mode": {
    "name": "ipython",
    "version": 3
   },
   "file_extension": ".py",
   "mimetype": "text/x-python",
   "name": "python",
   "nbconvert_exporter": "python",
   "pygments_lexer": "ipython3",
   "version": "3.8.8"
  }
 },
 "nbformat": 4,
 "nbformat_minor": 5
}
